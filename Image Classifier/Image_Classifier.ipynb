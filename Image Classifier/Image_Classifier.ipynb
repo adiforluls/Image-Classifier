{
 "cells": [
  {
   "cell_type": "markdown",
   "metadata": {},
   "source": [
    "# Image Classifier"
   ]
  },
  {
   "cell_type": "markdown",
   "metadata": {},
   "source": []
  },
  {
   "cell_type": "code",
   "execution_count": 1,
   "metadata": {},
   "outputs": [
    {
     "name": "stderr",
     "output_type": "stream",
     "text": [
      "Using TensorFlow backend.\n"
     ]
    }
   ],
   "source": [
    "import numpy\n",
    "from keras.layers import Conv2D,Flatten,MaxPooling2D,Dense,Dropout,Activation\n",
    "from keras.models import Model,Sequential\n",
    "from keras.optimizers import Adam\n",
    "from tensorflow.python.keras.preprocessing.image import ImageDataGenerator"
   ]
  },
  {
   "cell_type": "code",
   "execution_count": 2,
   "metadata": {},
   "outputs": [],
   "source": [
    "batch_size = 10\n",
    "num_classes = 50\n",
    "epochs = 50\n",
    "data_augmentation = True"
   ]
  },
  {
   "cell_type": "markdown",
   "metadata": {},
   "source": [
    "## The Model\n",
    " \n",
    "- For training we modified the famous **Caltech-256** to *50 Classes* for training the classifier on small scale.\n",
    "- Then we have created a simple Convolutional neural network of 9 layers to train the data.\n",
    " "
   ]
  },
  {
   "cell_type": "code",
   "execution_count": 3,
   "metadata": {},
   "outputs": [],
   "source": [
    "model =Sequential()\n",
    "#block 1\n",
    "model.add(Conv2D(32, (3, 3), padding='same',activation = 'relu',input_shape = (224,224,3)))\n",
    "model.add(Conv2D(32, (3, 3),padding = 'valid',activation = 'relu'))\n",
    "model.add(MaxPooling2D(pool_size=(2, 2)))\n",
    "model.add(Dropout(0.5))\n",
    "#block 2\n",
    "model.add(Conv2D(64, (3, 3), padding='same', activation = 'relu'))\n",
    "model.add(Conv2D(64, (3, 3), padding='valid', activation ='relu'))\n",
    "model.add(MaxPooling2D(pool_size=(2, 2)))\n",
    "model.add(Dropout(0.5))\n",
    "#block 3\n",
    "model.add(Conv2D(128,(3,3), padding = 'same', activation = 'relu'))\n",
    "model.add(Conv2D(128,(3,3), padding = 'valid', activation = 'relu'))\n",
    "model.add(MaxPooling2D(pool_size=(2, 2)))\n",
    "model.add(Dropout(0.5))\n",
    "#block 4\n",
    "model.add(Flatten())\n",
    "model.add(Dense(512))\n",
    "model.add(Activation('relu'))\n",
    "model.add(Dropout(0.5))\n",
    "model.add(Dense(num_classes))\n",
    "model.add(Activation('softmax'))"
   ]
  },
  {
   "cell_type": "code",
   "execution_count": 4,
   "metadata": {},
   "outputs": [],
   "source": [
    "opt = Adam(lr=0.0001, decay=1e-6)\n",
    "model.compile(loss='categorical_crossentropy',optimizer=opt,metrics=['accuracy'])"
   ]
  },
  {
   "cell_type": "markdown",
   "metadata": {},
   "source": [
    "#### - Since we have modified the data, implementing the Data Augmentation on our data will give us better results.\n",
    "#### - *Keras*  provides inbuilt function named _ImageDataGenerator_  for the data augmentation"
   ]
  },
  {
   "cell_type": "code",
   "execution_count": 5,
   "metadata": {},
   "outputs": [
    {
     "name": "stdout",
     "output_type": "stream",
     "text": [
      "Using real-time data augmentation.\n"
     ]
    }
   ],
   "source": [
    "# This is the augmentation configuration we will use for training\n",
    "\n",
    "if not data_augmentation:\n",
    "    print('Not using data augmentation.')\n",
    "    model.fit(x_train, y_train,batch_size=batch_size, epochs=epochs, validation_data=(x_test, y_test), shuffle=True)\n",
    "    \n",
    "else:\n",
    "    print('Using real-time data augmentation.')\n",
    "    train_datagen = ImageDataGenerator(\n",
    "        rescale=1./255,# set rescaling factor (applied before any other transformation)\n",
    "        rotation_range=20,  # randomly rotate images in the range (degrees, 0 to 180)\n",
    "        width_shift_range=0.1,  # randomly shift images horizontally (fraction of total width)\n",
    "        height_shift_range=0.1,  # randomly shift images vertically (fraction of total height)\n",
    "        zoom_range=0.2,  # set range for random zoom\n",
    "        fill_mode='nearest',  # set mode for filling points outside the input boundaries\n",
    "        horizontal_flip=True,  # randomly flip images\n",
    "        vertical_flip=False,  # randomly flip images\n",
    "        data_format=None ) # image data format, either \"channels_first\" or \"channels_last\"\n",
    "    "
   ]
  },
  {
   "cell_type": "code",
   "execution_count": 6,
   "metadata": {},
   "outputs": [],
   "source": [
    "# This is the augmentation configuration we will use for testing:\n",
    "# only rescaling\n",
    "test_datagen = ImageDataGenerator(rescale=1./255)"
   ]
  },
  {
   "cell_type": "code",
   "execution_count": 7,
   "metadata": {},
   "outputs": [
    {
     "name": "stdout",
     "output_type": "stream",
     "text": [
      "Found 7535 images belonging to 50 classes.\n"
     ]
    }
   ],
   "source": [
    "# this is a generator that will read pictures found in\n",
    "#subfolers of 'data/train', and indefinitely\n",
    "#generate batches of augmented image data\n",
    "train_generator = train_datagen.flow_from_directory(\n",
    "        r'/home/ug2017/mec/17135096/Train_data',  # this is the target directory\n",
    "        target_size=(224, 224),  # all images will be resized to 224x224\n",
    "        batch_size=batch_size)"
   ]
  },
  {
   "cell_type": "markdown",
   "metadata": {},
   "source": [
    "## Training the Classifier\n",
    "\n"
   ]
  },
  {
   "cell_type": "code",
   "execution_count": 8,
   "metadata": {},
   "outputs": [
    {
     "name": "stdout",
     "output_type": "stream",
     "text": [
      "Epoch 1/50\n",
      "754/754 [==============================] - 152s 201ms/step - loss: 3.7213 - acc: 0.1133\n",
      "Epoch 2/50\n",
      "754/754 [==============================] - 146s 193ms/step - loss: 3.4512 - acc: 0.1556\n",
      "Epoch 3/50\n",
      "754/754 [==============================] - 146s 194ms/step - loss: 3.2844 - acc: 0.1911\n",
      "Epoch 4/50\n",
      "754/754 [==============================] - 148s 196ms/step - loss: 3.1518 - acc: 0.2207\n",
      "Epoch 5/50\n",
      "754/754 [==============================] - 214s 283ms/step - loss: 3.0297 - acc: 0.2469\n",
      "Epoch 6/50\n",
      "754/754 [==============================] - 193s 256ms/step - loss: 2.9357 - acc: 0.2696\n",
      "Epoch 7/50\n",
      "754/754 [==============================] - 119s 158ms/step - loss: 2.8645 - acc: 0.2836\n",
      "Epoch 8/50\n",
      "754/754 [==============================] - 119s 158ms/step - loss: 2.8041 - acc: 0.2923\n",
      "Epoch 9/50\n",
      "754/754 [==============================] - 124s 164ms/step - loss: 2.7194 - acc: 0.3162\n",
      "Epoch 10/50\n",
      "754/754 [==============================] - 130s 172ms/step - loss: 2.6692 - acc: 0.3257\n",
      "Epoch 11/50\n",
      "754/754 [==============================] - 126s 167ms/step - loss: 2.6078 - acc: 0.3322\n",
      "Epoch 12/50\n",
      "754/754 [==============================] - 122s 162ms/step - loss: 2.5497 - acc: 0.3556\n",
      "Epoch 13/50\n",
      "754/754 [==============================] - 118s 157ms/step - loss: 2.5098 - acc: 0.3607\n",
      "Epoch 14/50\n",
      "754/754 [==============================] - 120s 159ms/step - loss: 2.4523 - acc: 0.3683\n",
      "Epoch 15/50\n",
      "754/754 [==============================] - 120s 159ms/step - loss: 2.4126 - acc: 0.3833\n",
      "Epoch 16/50\n",
      "754/754 [==============================] - 121s 160ms/step - loss: 2.3612 - acc: 0.3908\n",
      "Epoch 17/50\n",
      "754/754 [==============================] - 121s 160ms/step - loss: 2.3334 - acc: 0.4058\n",
      "Epoch 18/50\n",
      "754/754 [==============================] - 120s 159ms/step - loss: 2.2817 - acc: 0.4080\n",
      "Epoch 19/50\n",
      "754/754 [==============================] - 117s 155ms/step - loss: 2.2518 - acc: 0.4192\n",
      "Epoch 20/50\n",
      "754/754 [==============================] - 118s 156ms/step - loss: 2.2054 - acc: 0.4167\n",
      "Epoch 21/50\n",
      "754/754 [==============================] - 126s 167ms/step - loss: 2.1929 - acc: 0.4325\n",
      "Epoch 22/50\n",
      "754/754 [==============================] - 120s 160ms/step - loss: 2.1404 - acc: 0.4448\n",
      "Epoch 23/50\n",
      "754/754 [==============================] - 122s 161ms/step - loss: 2.1177 - acc: 0.4390\n",
      "Epoch 24/50\n",
      "754/754 [==============================] - 120s 159ms/step - loss: 2.0765 - acc: 0.4556\n",
      "Epoch 25/50\n",
      "754/754 [==============================] - 115s 153ms/step - loss: 2.0457 - acc: 0.4542\n",
      "Epoch 26/50\n",
      "754/754 [==============================] - 116s 154ms/step - loss: 2.0112 - acc: 0.4720\n",
      "Epoch 27/50\n",
      "754/754 [==============================] - 119s 158ms/step - loss: 1.9888 - acc: 0.4751\n",
      "Epoch 28/50\n",
      "754/754 [==============================] - 125s 166ms/step - loss: 1.9619 - acc: 0.4788\n",
      "Epoch 29/50\n",
      "754/754 [==============================] - 119s 157ms/step - loss: 1.9427 - acc: 0.4820\n",
      "Epoch 30/50\n",
      "754/754 [==============================] - 120s 159ms/step - loss: 1.8943 - acc: 0.4966\n",
      "Epoch 31/50\n",
      "754/754 [==============================] - 121s 160ms/step - loss: 1.8895 - acc: 0.4983\n",
      "Epoch 32/50\n",
      "754/754 [==============================] - 118s 156ms/step - loss: 1.8680 - acc: 0.4924\n",
      "Epoch 33/50\n",
      "754/754 [==============================] - 117s 155ms/step - loss: 1.8149 - acc: 0.5094\n",
      "Epoch 34/50\n",
      "754/754 [==============================] - 122s 162ms/step - loss: 1.8161 - acc: 0.5107\n",
      "Epoch 35/50\n",
      "754/754 [==============================] - 117s 156ms/step - loss: 1.7742 - acc: 0.5208\n",
      "Epoch 36/50\n",
      "754/754 [==============================] - 119s 158ms/step - loss: 1.7540 - acc: 0.5297\n",
      "Epoch 37/50\n",
      "754/754 [==============================] - 224s 297ms/step - loss: 1.7370 - acc: 0.5282\n",
      "Epoch 38/50\n",
      "754/754 [==============================] - 206s 273ms/step - loss: 1.7148 - acc: 0.5336\n",
      "Epoch 39/50\n",
      "754/754 [==============================] - 496s 657ms/step - loss: 1.7029 - acc: 0.5391\n",
      "Epoch 40/50\n",
      "754/754 [==============================] - 190s 252ms/step - loss: 1.6820 - acc: 0.5389\n",
      "Epoch 41/50\n",
      "754/754 [==============================] - 123s 163ms/step - loss: 1.6647 - acc: 0.5481\n",
      "Epoch 42/50\n",
      "754/754 [==============================] - 119s 158ms/step - loss: 1.6367 - acc: 0.5560\n",
      "Epoch 43/50\n",
      "754/754 [==============================] - 122s 162ms/step - loss: 1.6050 - acc: 0.5635\n",
      "Epoch 44/50\n",
      "754/754 [==============================] - 121s 161ms/step - loss: 1.5979 - acc: 0.5564\n",
      "Epoch 45/50\n",
      "754/754 [==============================] - 120s 160ms/step - loss: 1.5845 - acc: 0.5622\n",
      "Epoch 46/50\n",
      "754/754 [==============================] - 120s 159ms/step - loss: 1.5717 - acc: 0.5684\n",
      "Epoch 47/50\n",
      "754/754 [==============================] - 121s 160ms/step - loss: 1.5526 - acc: 0.5775\n",
      "Epoch 48/50\n",
      "754/754 [==============================] - 120s 160ms/step - loss: 1.5304 - acc: 0.5779\n",
      "Epoch 49/50\n",
      "754/754 [==============================] - 124s 164ms/step - loss: 1.5041 - acc: 0.5810\n",
      "Epoch 50/50\n",
      "754/754 [==============================] - 121s 161ms/step - loss: 1.5171 - acc: 0.5765\n"
     ]
    },
    {
     "data": {
      "text/plain": [
       "<keras.callbacks.History at 0x79df890>"
      ]
     },
     "execution_count": 8,
     "metadata": {},
     "output_type": "execute_result"
    }
   ],
   "source": [
    "model.fit_generator(\n",
    "        train_generator,\n",
    "        steps_per_epoch= (7535 // batch_size)+1,\n",
    "        epochs=epochs)"
   ]
  },
  {
   "cell_type": "markdown",
   "metadata": {},
   "source": [
    "### After fitting the data, we have obtained the accuracy near 60% on the *training dataset*. \n"
   ]
  }
 ],
 "metadata": {
  "kernelspec": {
   "display_name": "Python 3",
   "language": "python",
   "name": "python3"
  },
  "language_info": {
   "codemirror_mode": {
    "name": "ipython",
    "version": 3
   },
   "file_extension": ".py",
   "mimetype": "text/x-python",
   "name": "python",
   "nbconvert_exporter": "python",
   "pygments_lexer": "ipython3",
   "version": "3.6.5"
  }
 },
 "nbformat": 4,
 "nbformat_minor": 2
}
